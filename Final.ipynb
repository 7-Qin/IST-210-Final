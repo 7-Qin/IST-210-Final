{
  "nbformat": 4,
  "nbformat_minor": 0,
  "metadata": {
    "colab": {
      "name": "Copy of GroupAssignment4.ipynb",
      "provenance": [],
      "collapsed_sections": []
    },
    "kernelspec": {
      "name": "python3",
      "display_name": "Python 3"
    }
  },
  "cells": [
    {
      "cell_type": "markdown",
      "metadata": {
        "id": "cGVNp7-FEKDi",
        "colab_type": "text"
      },
      "source": [
        "# **Group 23: Products4U**"
      ]
    },
    {
      "cell_type": "code",
      "metadata": {
        "id": "RCOP2mIhDtQt",
        "colab_type": "code",
        "colab": {}
      },
      "source": [
        "import sqlite3"
      ],
      "execution_count": 0,
      "outputs": []
    },
    {
      "cell_type": "markdown",
      "metadata": {
        "id": "0SD8neoQUY-9",
        "colab_type": "text"
      },
      "source": [
        "**Introduction**"
      ]
    },
    {
      "cell_type": "markdown",
      "metadata": {
        "id": "XR9BT2ZeUeVv",
        "colab_type": "text"
      },
      "source": [
        "Our project Products4U is an online shopping website with the goal of enabling consumers to buy any type of product from the comfort of their couch. We were inspired by Amazon but since most of their products are overpriced, and they don’t have a FREE loyalty program we came up with a website that provides consumers with the lowest priced products and fastest shipping. These incorporations make us the domain expert in this specific industry. We buy our products in bulk and distribute them individually to consumers to drive down our shipping and product prices. Forget Amazon and start shopping Products4U!"
      ]
    },
    {
      "cell_type": "markdown",
      "metadata": {
        "id": "cwntLWWQUuTp",
        "colab_type": "text"
      },
      "source": [
        "\n",
        "**Video**"
      ]
    },
    {
      "cell_type": "code",
      "metadata": {
        "id": "H-ceN6VxqJl9",
        "colab_type": "code",
        "outputId": "0ccef246-d4cc-4833-8949-a754c5f731d3",
        "colab": {
          "base_uri": "https://localhost:8080/",
          "height": 336
        }
      },
      "source": [
        "from IPython.display import IFrame\n",
        "# https://www.youtube.com/embed/xxxxxxxxxxxx\n",
        "IFrame(\"https://www.youtube.com/embed/G54-kBpFdrU\", 560, 315)"
      ],
      "execution_count": 0,
      "outputs": [
        {
          "output_type": "execute_result",
          "data": {
            "text/html": [
              "\n",
              "        <iframe\n",
              "            width=\"560\"\n",
              "            height=\"315\"\n",
              "            src=\"https://www.youtube.com/embed/G54-kBpFdrU\"\n",
              "            frameborder=\"0\"\n",
              "            allowfullscreen\n",
              "        ></iframe>\n",
              "        "
            ],
            "text/plain": [
              "<IPython.lib.display.IFrame at 0x7fceee9cd438>"
            ]
          },
          "metadata": {
            "tags": []
          },
          "execution_count": 3
        }
      ]
    },
    {
      "cell_type": "markdown",
      "metadata": {
        "id": "Vp8469JMVZ16",
        "colab_type": "text"
      },
      "source": [
        "**ER Diagram**"
      ]
    },
    {
      "cell_type": "markdown",
      "metadata": {
        "id": "TOc7Z8jcVcZf",
        "colab_type": "text"
      },
      "source": [
        "![ER diagram](https://raw.githubusercontent.com/7-Qin/IST-210-groupproect/master/final.png)\n",
        "\n",
        "```\n",
        "# This is formatted as code\n",
        "```\n",
        "\n"
      ]
    },
    {
      "cell_type": "markdown",
      "metadata": {
        "id": "m9ajmiJQVd1s",
        "colab_type": "text"
      },
      "source": [
        "**Specifics of ER Diagram**"
      ]
    },
    {
      "cell_type": "markdown",
      "metadata": {
        "id": "vjT-79XCVrPx",
        "colab_type": "text"
      },
      "source": [
        "We have 5 essential entity tables for our product, and the entity tables are used to store information on the users’ account, products, Order status, logistics, and payment information. These 5 entities tables are vital to ensure that we have a high functioning business that is profitable.\n",
        "The user entity table is the most important because this is used to store all kinds of data and information about our customers. First, we will ask the user to fill in the information he/she needs to log in, such as their username and password. Since we are an online shopping platform, we also allow users to provide additional information to further verify their identity, such as their phone number and address. Moreover, we included Order_ID as the foreigner key which is the primary key for the Order entity. Of course, our system will also give each user's account a unique User_ID which is also the primary key of our entire user data table. Our primary key, User_ID, could also be a foreign key in other tables for better data transmission and verification.\n",
        "For an online shopping company, selling products is key to staying in business. Therefore, we need a reliable database to store information about goods being sold on our site. We also define a unique number, Product_ID, for each kind of item we are selling on our site. The Product_ID will also be the primary key for the product data table. For systems, it's perfect to use a unique digital code to mark goods, but this doesn’t work for customers who are going to buy items online. So, in this data sheet, we still need to classify and describe the goods so that customers will have a better understanding of the different products. Our online shopping website relies on users browsing through our products and placing orders. This means that it’s necessary to have an order table too. Since each order is unique, the Order_ID will be the primary key. We need to record the date that an order was placed in addition to timestamping an order. This could also be used as a foreign key to the payment table for better confirmation and verification. \n",
        "When people buy products online, they expect to receive their items as soon as possible which makes consumers very aware of logistics. We needed to include a data table to store logistic information, and this information must be real-time and dynamic in order to ensure that a user can track his/her product. Having order transportation in our database is necessary for increased efficiency. We can use the primary key from the User table, User_ID, as the foreign key and use the Order_ID and Order_transportation from the order table. Once we get the data from the other tables, we will be able to correctly calculate the exact shipping status of an order. \n",
        "Finally, payment by the consumer will be necessary for each order. Users will have the opportunity to pay using a debit card, such as Visa or through a PayPal account. The payment table will also incorporate real-time and dynamic data, for example, in order to ensure a secure checkout, we will need to verify private consumer information. In this case, the Order_ID and Order_placed_date from the Order table is needed, as well as the User_ID to ensure the payment has been placed by the correct account. When these three foreign keys have been input, we can confirm the payment with the user. Since the payment only has two different statuses, success or failure, we could use the number 0 to stand for failure and the number 1 to stand for a successful transaction.\n",
        "\n",
        "We included 8 connections within our entity relationship diagram. We have 3 one-to-one connections, for example product_ID (PK) from the product entity links to Product_ID (FK) in the Order entity. We have 5 one-to-many connections, such as User_ID (PK) from the Users entity to User_ID (FK) in our payment entity. \n"
      ]
    },
    {
      "cell_type": "markdown",
      "metadata": {
        "id": "cVZ0WLw3VvBc",
        "colab_type": "text"
      },
      "source": [
        " **This is how we created the table**"
      ]
    },
    {
      "cell_type": "markdown",
      "metadata": {
        "id": "fXzmkqXBWr7d",
        "colab_type": "text"
      },
      "source": [
        "In order to create our database tables, we had to go through a few steps. First, we created the database tables by checking if the tables existed and if they do exist, they’re dropped. Then, we created a primary key and attributes in each table along with making sure there are no duplicates between tables. We inserted individual values in each table into their respected attributes. We had five which consisted of, product, logistic, users, order1, and payment. \n",
        "We used DROP table to make sure that the tables do not exist. Then we used CREATE table to add attributes in the respective tables. We added the data using INSERT command."
      ]
    },
    {
      "cell_type": "markdown",
      "metadata": {
        "id": "U41rfM7GWuYc",
        "colab_type": "text"
      },
      "source": [
        "**All the code**"
      ]
    },
    {
      "cell_type": "code",
      "metadata": {
        "id": "vlxWPfr0YZfN",
        "colab_type": "code",
        "colab": {}
      },
      "source": [
        "connectionToDatabase = sqlite3.connect('Products4U') \n",
        "cursor = connectionToDatabase.cursor()\n",
        "\n",
        "\n",
        "cursor.execute(\"drop table if EXISTS Product\")\n",
        "cursor.execute(\"drop table if EXISTS Logistic\")\n",
        "cursor.execute(\"drop table if EXISTS Users\")\n",
        "cursor.execute(\"drop table if EXISTS Order1\")\n",
        "cursor.execute(\"drop table if EXISTS Payment\")\n",
        "connectionToDatabase.commit()"
      ],
      "execution_count": 0,
      "outputs": []
    },
    {
      "cell_type": "code",
      "metadata": {
        "id": "nAC5JGgzYdP7",
        "colab_type": "code",
        "colab": {}
      },
      "source": [
        "cursor.execute('''create table IF NOT EXISTS Product (Product_ID text PRIMARY KEY, Product_name text, Product_price text, Product_category text, Product_remaining_stock integer, Product_description text)''')\n",
        "connectionToDatabase.commit()\n",
        "\n",
        "cursor.execute('''create table IF NOT EXISTS Logistic (Logistic_ID text PRIMARY KEY, Order_id integer, User_ID text, Order_transportation text, Shipping_Status text)''')\n",
        "connectionToDatabase.commit()\n",
        "\n",
        "cursor.execute('''create table IF NOT EXISTS Users (User_ID text PRIMARY KEY, username text, password text, phone_number real, address text)''')\n",
        "connectionToDatabase.commit()\n",
        "\n",
        "cursor.execute('''create table IF NOT EXISTS Order1 (Order_ID text PRIMARY KEY, Order_placed_date text, Order_total text, Order_transportation text, Order_status text)''')\n",
        "\n",
        "cursor.execute('''create table IF NOT EXISTS Payment (Payment_ID text PRIMARY KEY, Order_ID real, User_ID text, Order_placed_date text, Payment_status text)''')\n",
        "connectionToDatabase.commit()\n",
        "\n",
        "connectionToDatabase.commit()"
      ],
      "execution_count": 0,
      "outputs": []
    },
    {
      "cell_type": "code",
      "metadata": {
        "id": "tki6l6ynYfIU",
        "colab_type": "code",
        "colab": {}
      },
      "source": [
        "# uploading data to Product\n",
        "\n",
        "cursor.execute('''INSERT INTO Product values (\"P4U001\",\"Acer\",\"1300\", \"laptop\", \"10\", \"Predator\");''')\n",
        "connectionToDatabase.commit()\n",
        "cursor.execute('''INSERT INTO Product values (\"P4U002\",\"Oneplus\",\"700\", \"mobile\", \"100\", \"7T\");''')\n",
        "connectionToDatabase.commit()\n",
        "cursor.execute('''INSERT INTO Product values (\"P4U003\",\"Sony\",\"300\", \"TV\", \"1500\", \"6\");''')\n",
        "connectionToDatabase.commit()\n",
        "cursor.execute('''INSERT INTO Product values (\"P4U004\",\"Game\",\"70\", \"FIFA\", \"80\", \"2019\");''')\n",
        "connectionToDatabase.commit()"
      ],
      "execution_count": 0,
      "outputs": []
    },
    {
      "cell_type": "code",
      "metadata": {
        "id": "ZIAjT-zIYisa",
        "colab_type": "code",
        "colab": {}
      },
      "source": [
        "# uploading data to Logistic\n",
        "\n",
        "cursor.execute('''INSERT INTO Logistic values (\"P4L001\",\"P4O001\",\"u4u001\",\"P4T001\",\"Shipped\");''')\n",
        "connectionToDatabase.commit()\n",
        "cursor.execute('''INSERT INTO Logistic values (\"P4L002\",\"P4O002\",\"u4u002\",\"P4T002\",\"Ordered\");''')\n",
        "connectionToDatabase.commit()\n",
        "cursor.execute('''INSERT INTO Logistic values (\"P4L003\",\"P4O003\",\"u4u003\",\"P4T003\",\"Delivered\");''')\n",
        "connectionToDatabase.commit()\n",
        "cursor.execute('''INSERT INTO Logistic values (\"P4L004\",\"P4O004\",\"u4u004\",\"P4T004\",\"Canceled\");''')\n",
        "connectionToDatabase.commit()"
      ],
      "execution_count": 0,
      "outputs": []
    },
    {
      "cell_type": "code",
      "metadata": {
        "id": "Wjx2AWUFYk88",
        "colab_type": "code",
        "colab": {}
      },
      "source": [
        "# uploading data to Users \n",
        "\n",
        "cursor.execute('''INSERT INTO Users values (\"u4u001\",\"Taksh\",\"123456\",\"8148803368\",\"476E Beaver Ave\");''')\n",
        "connectionToDatabase.commit()\n",
        "cursor.execute('''INSERT INTO Users values (\"u4u002\",\"Andrew\",\"987654\",\"8152813367\",\"476E College Ave\");''')\n",
        "connectionToDatabase.commit()\n",
        "cursor.execute('''INSERT INTO Users values (\"u4u003\",\"Qin\",\"654323\",\"8146800369\",\"Hibbs Hall\");''')\n",
        "connectionToDatabase.commit()\n",
        "cursor.execute('''INSERT INTO Users values (\"u4u004\",\"Carly\",\"742679\",\"8541873468\",\"Pinchot Hall\");''')\n",
        "connectionToDatabase.commit()"
      ],
      "execution_count": 0,
      "outputs": []
    },
    {
      "cell_type": "code",
      "metadata": {
        "id": "F4HGwatRYnJ4",
        "colab_type": "code",
        "colab": {}
      },
      "source": [
        "# uploading data to Order\n",
        "\n",
        "cursor.execute('''INSERT INTO Order1 values (\"P4O001\",\"12/1/2019\",\"2100\",\"FedEx\",\"Shipped\");''')\n",
        "connectionToDatabase.commit()\n",
        "cursor.execute('''INSERT INTO Order1 values (\"P4O002\",\"12/2/2019\",\"1300\",\"USPS\",\"Ordered\");''')\n",
        "connectionToDatabase.commit()\n",
        "cursor.execute('''INSERT INTO Order1 values (\"P4O003\",\"12/3/2019\",\"1000\",\"UPS\",\"Delivered\");''')\n",
        "connectionToDatabase.commit()\n",
        "cursor.execute('''INSERT INTO Order1 values (\"P4O004\",\"12/4/2019\",\"1000\",\"DHL\",\"Cancelled\");''')\n",
        "connectionToDatabase.commit()"
      ],
      "execution_count": 0,
      "outputs": []
    },
    {
      "cell_type": "code",
      "metadata": {
        "colab_type": "code",
        "id": "Kpw2_mo8_mLL",
        "colab": {}
      },
      "source": [
        "# uploading data to Payment\n",
        "\n",
        "cursor.execute('''INSERT INTO Payment values (\"P4P001\",\"P4O001\",\"u4u001\",\"12/1/2019\",\"Paid\");''')\n",
        "connectionToDatabase.commit()\n",
        "cursor.execute('''INSERT INTO Payment values (\"P4P002\",\"P4O002\",\"u4u002\",\"12/2/2019\",\"Paid\");''')\n",
        "connectionToDatabase.commit()\n",
        "cursor.execute('''INSERT INTO Payment values (\"P4P003\",\"P4O003\",\"u4u003\",\"12/3/2019\",\"Paid\");''')\n",
        "connectionToDatabase.commit()\n",
        "cursor.execute('''INSERT INTO Payment values (\"P4P004\",\"P4O004\",\"u4u004\",\"12/4/2019\",\"Ddeclined\");''')\n",
        "connectionToDatabase.commit()"
      ],
      "execution_count": 0,
      "outputs": []
    },
    {
      "cell_type": "code",
      "metadata": {
        "id": "X2TUcLqgYo-t",
        "colab_type": "code",
        "outputId": "94a3fdae-8d74-42d9-c301-7a78af7ed679",
        "colab": {
          "base_uri": "https://localhost:8080/",
          "height": 85
        }
      },
      "source": [
        "# to view all tables \n",
        "cursor.execute('''select * from Product;''')\n",
        "for i in cursor.fetchall():\n",
        "    print(i)"
      ],
      "execution_count": 0,
      "outputs": [
        {
          "output_type": "stream",
          "text": [
            "('P4U001', 'Acer', '1300', 'laptop', 10, 'Predator')\n",
            "('P4U002', 'Oneplus', '700', 'mobile', 100, '7T')\n",
            "('P4U003', 'Sony', '300', 'TV', 1500, '6')\n",
            "('P4U004', 'Game', '70', 'FIFA', 80, '2019')\n"
          ],
          "name": "stdout"
        }
      ]
    },
    {
      "cell_type": "code",
      "metadata": {
        "id": "RwJaY3NcYrjA",
        "colab_type": "code",
        "outputId": "72506223-c107-4781-8a1c-2c19e4b9835a",
        "colab": {
          "base_uri": "https://localhost:8080/",
          "height": 85
        }
      },
      "source": [
        "cursor.execute('''select * from Logistic;''')\n",
        "for i in cursor.fetchall():\n",
        "    print(i)"
      ],
      "execution_count": 0,
      "outputs": [
        {
          "output_type": "stream",
          "text": [
            "('P4L001', 'P4O001', 'u4u001', 'P4T001', 'Shipped')\n",
            "('P4L002', 'P4O002', 'u4u002', 'P4T002', 'Ordered')\n",
            "('P4L003', 'P4O003', 'u4u003', 'P4T003', 'Delivered')\n",
            "('P4L004', 'P4O004', 'u4u004', 'P4T004', 'Canceled')\n"
          ],
          "name": "stdout"
        }
      ]
    },
    {
      "cell_type": "code",
      "metadata": {
        "id": "PQiSnbjEYta3",
        "colab_type": "code",
        "outputId": "fb98c82c-fefc-4976-c45d-1e85395667ea",
        "colab": {
          "base_uri": "https://localhost:8080/",
          "height": 85
        }
      },
      "source": [
        "cursor.execute('''select * from Users;''')\n",
        "for i in cursor.fetchall():\n",
        "    print(i)"
      ],
      "execution_count": 0,
      "outputs": [
        {
          "output_type": "stream",
          "text": [
            "('u4u001', 'Taksh', '123456', 8148803368.0, '476E Beaver Ave')\n",
            "('u4u002', 'Andrew', '987654', 8152813367.0, '476E College Ave')\n",
            "('u4u003', 'Qin', '654323', 8146800369.0, 'Hibbs Hall')\n",
            "('u4u004', 'Carly', '742679', 8541873468.0, 'Pinchot Hall')\n"
          ],
          "name": "stdout"
        }
      ]
    },
    {
      "cell_type": "code",
      "metadata": {
        "id": "V5OQieWVYvYy",
        "colab_type": "code",
        "outputId": "39a08f51-95e6-4dd8-c3cd-d37bd9c7ee73",
        "colab": {
          "base_uri": "https://localhost:8080/",
          "height": 85
        }
      },
      "source": [
        "cursor.execute('''select * from Order1;''')\n",
        "for i in cursor.fetchall():\n",
        "    print(i)"
      ],
      "execution_count": 0,
      "outputs": [
        {
          "output_type": "stream",
          "text": [
            "('P4O001', '12/1/2019', '2100', 'FedEx', 'Shipped')\n",
            "('P4O002', '12/2/2019', '1300', 'USPS', 'Ordered')\n",
            "('P4O003', '12/3/2019', '1000', 'UPS', 'Delivered')\n",
            "('P4O004', '12/4/2019', '1000', 'DHL', 'Cancelled')\n"
          ],
          "name": "stdout"
        }
      ]
    },
    {
      "cell_type": "code",
      "metadata": {
        "colab_type": "code",
        "outputId": "76c43308-aca0-466a-8c1c-7fe3a714fde7",
        "id": "u9Ig44lJABOt",
        "colab": {
          "base_uri": "https://localhost:8080/",
          "height": 198
        }
      },
      "source": [
        "cursor.execute('''select * payment;''')\n",
        "for i in cursor.fetchall():\n",
        "    print(i)"
      ],
      "execution_count": 0,
      "outputs": [
        {
          "output_type": "error",
          "ename": "OperationalError",
          "evalue": "ignored",
          "traceback": [
            "\u001b[0;31m---------------------------------------------------------------------------\u001b[0m",
            "\u001b[0;31mOperationalError\u001b[0m                          Traceback (most recent call last)",
            "\u001b[0;32m<ipython-input-35-f0f8f00a735b>\u001b[0m in \u001b[0;36m<module>\u001b[0;34m()\u001b[0m\n\u001b[0;32m----> 1\u001b[0;31m \u001b[0mcursor\u001b[0m\u001b[0;34m.\u001b[0m\u001b[0mexecute\u001b[0m\u001b[0;34m(\u001b[0m\u001b[0;34m'''select * payment;'''\u001b[0m\u001b[0;34m)\u001b[0m\u001b[0;34m\u001b[0m\u001b[0;34m\u001b[0m\u001b[0m\n\u001b[0m\u001b[1;32m      2\u001b[0m \u001b[0;32mfor\u001b[0m \u001b[0mi\u001b[0m \u001b[0;32min\u001b[0m \u001b[0mcursor\u001b[0m\u001b[0;34m.\u001b[0m\u001b[0mfetchall\u001b[0m\u001b[0;34m(\u001b[0m\u001b[0;34m)\u001b[0m\u001b[0;34m:\u001b[0m\u001b[0;34m\u001b[0m\u001b[0;34m\u001b[0m\u001b[0m\n\u001b[1;32m      3\u001b[0m     \u001b[0mprint\u001b[0m\u001b[0;34m(\u001b[0m\u001b[0mi\u001b[0m\u001b[0;34m)\u001b[0m\u001b[0;34m\u001b[0m\u001b[0;34m\u001b[0m\u001b[0m\n",
            "\u001b[0;31mOperationalError\u001b[0m: near \"payment\": syntax error"
          ]
        }
      ]
    },
    {
      "cell_type": "markdown",
      "metadata": {
        "id": "CGign7yIqaon",
        "colab_type": "text"
      },
      "source": [
        "**Scenario**"
      ]
    },
    {
      "cell_type": "markdown",
      "metadata": {
        "id": "gh9kHsLbqdv0",
        "colab_type": "text"
      },
      "source": [
        "Robert is interested in buying a new television, but he doesn’t have time to go to the store. Instead, he decides to go online to Products4U.com and buys a new 50-inch Sony series 6 flat screen. After Robert picked out his flat screen, he was directed to checkout where he was given his subtotal of $1500. He paid the balance on his debit card, and he decided that he wanted 2-day shipping. Before he submitted the order, Robert needed to also put in his address for the product to ship to the proper location. Robert successfully ordered a new Sony series 6 television from Products4U!"
      ]
    },
    {
      "cell_type": "markdown",
      "metadata": {
        "id": "cMcZeR21e3m0",
        "colab_type": "text"
      },
      "source": [
        "**Question 1:** What days (top 3) did we make the most money?\n",
        "\n",
        "\n"
      ]
    },
    {
      "cell_type": "code",
      "metadata": {
        "id": "YMgpYrqgHDcV",
        "colab_type": "code",
        "outputId": "a80c8896-d4b8-4a55-a5ec-a01b10914d61",
        "colab": {
          "base_uri": "https://localhost:8080/",
          "height": 68
        }
      },
      "source": [
        "cursor.execute('''SELECT Order_placed_date FROM Order1 ORDER BY Order_placed_date DESC LIMIT 3;''')\n",
        "for i in cursor.fetchall():\n",
        "    print(i)"
      ],
      "execution_count": 0,
      "outputs": [
        {
          "output_type": "stream",
          "text": [
            "('12/4/2019',)\n",
            "('12/3/2019',)\n",
            "('12/2/2019',)\n"
          ],
          "name": "stdout"
        }
      ]
    },
    {
      "cell_type": "markdown",
      "metadata": {
        "id": "FZFQ0ODefMJb",
        "colab_type": "text"
      },
      "source": [
        "Thanksgiving is coming soon. We need to know some consumer habits before the festival so as to better predict the sales volume during the Thanksgiving break. In this way, we can purchase goods faster to avoid shortage of goods due to too many orders. This data will really help us reduce shipping costs.  "
      ]
    },
    {
      "cell_type": "markdown",
      "metadata": {
        "id": "Pp3wTxV9fThn",
        "colab_type": "text"
      },
      "source": [
        "**Question 2:** What days (top 3) did we sell the most iPhones?"
      ]
    },
    {
      "cell_type": "code",
      "metadata": {
        "id": "EmwcW2MN6KEQ",
        "colab_type": "code",
        "outputId": "7cd833e0-5847-4918-cc71-d3fad7d0c2aa",
        "colab": {
          "base_uri": "https://localhost:8080/",
          "height": 218
        }
      },
      "source": [
        "cursor.execute('''SELECT Product_name, Order_placed_date, Product_remaining_stock from p Product, o Order1 WHERE p.Product_ID=o.Order_ID AND p.Product_name=”iPhone” AND p.Product_remaining_stock ORDER BY ASC, GROUP BY o.Order_placed_date limit 3; ''')\n",
        "for i in cursor.fetchall():\n",
        "    print(i)"
      ],
      "execution_count": 0,
      "outputs": [
        {
          "output_type": "error",
          "ename": "OperationalError",
          "evalue": "ignored",
          "traceback": [
            "\u001b[0;31m---------------------------------------------------------------------------\u001b[0m",
            "\u001b[0;31mOperationalError\u001b[0m                          Traceback (most recent call last)",
            "\u001b[0;32m<ipython-input-39-73c96642da4e>\u001b[0m in \u001b[0;36m<module>\u001b[0;34m()\u001b[0m\n\u001b[0;32m----> 1\u001b[0;31m \u001b[0mcursor\u001b[0m\u001b[0;34m.\u001b[0m\u001b[0mexecute\u001b[0m\u001b[0;34m(\u001b[0m\u001b[0;34m'''SELECT Product_name, Order_placed_date, Product_remaining_stock from p Product, o Order1 WHERE p.Product_ID=o.Order_ID AND p.Product_name=”iPhone” AND p.Product_remaining_stock ORDER BY ASC, GROUP BY o.Order_placed_date limit 3; '''\u001b[0m\u001b[0;34m)\u001b[0m\u001b[0;34m\u001b[0m\u001b[0;34m\u001b[0m\u001b[0m\n\u001b[0m\u001b[1;32m      2\u001b[0m \u001b[0;32mfor\u001b[0m \u001b[0mi\u001b[0m \u001b[0;32min\u001b[0m \u001b[0mcursor\u001b[0m\u001b[0;34m.\u001b[0m\u001b[0mfetchall\u001b[0m\u001b[0;34m(\u001b[0m\u001b[0;34m)\u001b[0m\u001b[0;34m:\u001b[0m\u001b[0;34m\u001b[0m\u001b[0;34m\u001b[0m\u001b[0m\n\u001b[1;32m      3\u001b[0m     \u001b[0mprint\u001b[0m\u001b[0;34m(\u001b[0m\u001b[0mi\u001b[0m\u001b[0;34m)\u001b[0m\u001b[0;34m\u001b[0m\u001b[0;34m\u001b[0m\u001b[0m\n",
            "\u001b[0;31mOperationalError\u001b[0m: near \"GROUP\": syntax error"
          ]
        }
      ]
    },
    {
      "cell_type": "markdown",
      "metadata": {
        "id": "Cw5toN0uferb",
        "colab_type": "text"
      },
      "source": [
        "Accessing this information, you will be able to see all of the information including the Gate Type and Delay Time, ordered from the flight with the largest delay time to the one with the smallest delay time. Being able to compare the details between flights based off of total delay time will provide the opportunity to see if aspects like whether the flight being domestic, international, or connecting has a significant relationship with longer delay times. Having this information can give the airport an idea on where to focus their abilities in order to reduce delays, especially long delays, from occuring.\n"
      ]
    },
    {
      "cell_type": "markdown",
      "metadata": {
        "id": "jWtHvNxNfh8v",
        "colab_type": "text"
      },
      "source": [
        "**Question 3:**  Which users (top 5) ordered the most products grouped by product name and address?"
      ]
    },
    {
      "cell_type": "code",
      "metadata": {
        "id": "ezU3ppx_B6o3",
        "colab_type": "code",
        "outputId": "9fcbe6ae-6a43-4dea-df81-cc5230f451ea",
        "colab": {
          "base_uri": "https://localhost:8080/",
          "height": 34
        }
      },
      "source": [
        "cursor.execute('''put stuff here ''')\n",
        "for i in cursor.fetchall():\n",
        "    print(i)"
      ],
      "execution_count": 0,
      "outputs": [
        {
          "output_type": "stream",
          "text": [
            "(165.0,)\n"
          ],
          "name": "stdout"
        }
      ]
    },
    {
      "cell_type": "markdown",
      "metadata": {
        "id": "oSaJ5IhnfnEr",
        "colab_type": "text"
      },
      "source": [
        "This question is important because knowing the average time of delay at the airport will provide a better prediction to tell passengers on how long they should expect the flight to be delayed. If you don’t tell a passenger on how long they should expect the delay to last, or tell them a timeframe and then the delay goes on longer than the predicted timeframe, they could get irritated, complain to the airport, or relay this experience to others, possibly hurting the business for the airport. With knowing the average total time of delay, the airport can use this time as a basis for what to tell passengers on how long the average delay is so the passenger has some idea on what to expect.\n"
      ]
    }
  ]
}